{
 "metadata": {
  "language_info": {
   "codemirror_mode": {
    "name": "ipython",
    "version": 3
   },
   "file_extension": ".py",
   "mimetype": "text/x-python",
   "name": "python",
   "nbconvert_exporter": "python",
   "pygments_lexer": "ipython3",
   "version": "3.8.3-final"
  },
  "orig_nbformat": 2,
  "kernelspec": {
   "name": "pycharm-7243037c",
   "language": "python",
   "display_name": "PyCharm (logread)"
  }
 },
 "nbformat": 4,
 "nbformat_minor": 2,
 "cells": [
  {
   "cell_type": "code",
   "execution_count": 6,
   "metadata": {
    "tags": []
   },
   "outputs": [
    {
     "name": "stdout",
     "output_type": "stream",
     "text": [
      "D:\\logread\n",
      "{'base': 'D:\\\\HLH524', 'log': {'path': 'logfile', 'fields': ['开机时间', '加热中...', '恒温', '关闭加热', '开始降温...', '退出并关闭操作系统']}}\n"
     ]
    },
    {
     "name": "stderr",
     "output_type": "stream",
     "text": [
      "<ipython-input-6-cf68e8885e9a>:11: YAMLLoadWarning: calling yaml.load() without Loader=... is deprecated, as the default Loader is unsafe. Please read https://msg.pyyaml.org/load for full details.\n",
      "  config = yaml.load(cfg)\n"
     ]
    }
   ],
   "source": [
    "import yaml\n",
    "import os\n",
    "from HLH.HLH_logfile import Logfile,LogItem\n",
    "\n",
    "cur_path = os.path.dirname(os.path.abspath(\"__file__\"))\n",
    "print(cur_path)\n",
    "yaml_path = os.path.join(cur_path,\"HLH/HLH_config.yaml\")\n",
    "\n",
    "cfg = open(yaml_path,'r',encoding='utf-8').read()\n",
    "\n",
    "config = yaml.load(cfg)\n",
    "\n",
    "print(config)"
   ]
  },
  {
   "cell_type": "code",
   "execution_count": 10,
   "metadata": {
    "tags": []
   },
   "outputs": [
    {
     "name": "stdout",
     "output_type": "stream",
     "text": [
      "20160411085915.txt\n",
      "os.stat_result(st_mode=33206, st_ino=281474976903035, st_dev=3259462213, st_nlink=1, st_uid=0, st_gid=0, st_size=1269, st_atime=1596613266, st_mtime=1551344962, st_ctime=1596613266)\n",
      "   0  2016.04.11  08:59:15  开机时间\n",
      "\n"
     ]
    },
    {
     "ename": "LookupError",
     "evalue": "unknown encoding: uft-8",
     "output_type": "error",
     "traceback": [
      "\u001B[1;31m---------------------------------------------------------------------------\u001B[0m",
      "\u001B[1;31mLookupError\u001B[0m                               Traceback (most recent call last)",
      "\u001B[1;32m<ipython-input-10-a971fd00e188>\u001B[0m in \u001B[0;36m<module>\u001B[1;34m\u001B[0m\n\u001B[0;32m     24\u001B[0m                 \u001B[0mvalues\u001B[0m\u001B[1;33m[\u001B[0m\u001B[1;36m1\u001B[0m\u001B[1;33m]\u001B[0m\u001B[1;33m,\u001B[0m\u001B[1;33m\u001B[0m\u001B[1;33m\u001B[0m\u001B[0m\n\u001B[0;32m     25\u001B[0m                 \u001B[0mvalues\u001B[0m\u001B[1;33m[\u001B[0m\u001B[1;36m2\u001B[0m\u001B[1;33m]\u001B[0m\u001B[1;33m,\u001B[0m\u001B[1;33m\u001B[0m\u001B[1;33m\u001B[0m\u001B[0m\n\u001B[1;32m---> 26\u001B[1;33m                 values[3].encode('gbk').decode('uft-8'))\n\u001B[0m\u001B[0;32m     27\u001B[0m                 \u001B[0mlog_file\u001B[0m\u001B[1;33m.\u001B[0m\u001B[0madd_item\u001B[0m\u001B[1;33m(\u001B[0m\u001B[0mlog_item\u001B[0m\u001B[1;33m)\u001B[0m\u001B[1;33m\u001B[0m\u001B[1;33m\u001B[0m\u001B[0m\n\u001B[0;32m     28\u001B[0m \u001B[1;33m\u001B[0m\u001B[0m\n",
      "\u001B[1;31mLookupError\u001B[0m: unknown encoding: uft-8"
     ]
    }
   ],
   "source": [
    "base_path = config['base']\n",
    "log_path = os.path.join(base_path,config['log']['path'])\n",
    "\n",
    "for foldName, subfolders, filenames in os.walk(log_path):   #用os.walk方法取得path路径下的文件夹路径，子文件夹名，所有文件名\n",
    "    for f in filenames:\n",
    "\n",
    "        log_file_path = os.path.join(log_path,f)\n",
    "        stat_info = os.stat(log_file_path)\n",
    "        print(f)\n",
    "        print(stat_info)\n",
    "\n",
    "        with open(log_file_path,'r',encoding='gbk') as log:\n",
    "            skip_line = 3 #跳过前面两行\n",
    "            log_file = Logfile()\n",
    "            while skip_line:\n",
    "                skip_line-=1\n",
    "                line = log.readline()\n",
    "\n",
    "            while line:\n",
    "\n",
    "                print(line)\n",
    "                values = line.strip().split('  ')\n",
    "                log_item = LogItem(values[0],\n",
    "                values[1],\n",
    "                values[2],\n",
    "                values[3])\n",
    "                log_file.add_item(log_item)\n",
    "                \n",
    "                line = log.readline()\n",
    "                \n",
    "            print(log_file.dump_json())\n",
    "\n",
    "        break"
   ]
  },
  {
   "cell_type": "code",
   "execution_count": 1,
   "outputs": [
    {
     "name": "stdout",
     "output_type": "stream",
     "text": [
      "1596691808.4922957\n"
     ]
    }
   ],
   "source": [
    "import time\n",
    "print(time.time())\n"
   ],
   "metadata": {
    "collapsed": false,
    "pycharm": {
     "name": "#%%\n"
    }
   }
  }
 ]
}