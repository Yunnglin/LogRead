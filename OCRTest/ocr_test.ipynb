{
 "cells": [
  {
   "cell_type": "code",
   "execution_count": 116,
   "metadata": {
    "collapsed": true
   },
   "outputs": [],
   "source": [
    "import pytesseract\n",
    "from PIL import Image,ImageGrab\n",
    "import cv2\n",
    "import threading"
   ]
  },
  {
   "cell_type": "markdown",
   "metadata": {
    "collapsed": false,
    "pycharm": {
     "name": "#%%\n"
    }
   },
   "source": [
    "功能：\n",
    "\n",
    "- get_tesseract_version　　返回系统中安装的Tesseract版本。\n",
    "- image_to_string　　将图像上的Tesseract OCR运行结果返回到字符串\n",
    "- image_to_boxes　　返回包含已识别字符及其框边界的结果\n",
    "- image_to_data　　返回包含框边界，置信度和其他信息的结果。需要- Tesseract 3.05+。有关更多信息，请查看Tesseract TSV文档\n",
    "- image_to_osd　　返回包含有关方向和脚本检测的信息的结果。\n",
    "\n",
    "参数：\n",
    "\n",
    "`image_to_data(image, lang=None, config='', nice=0, output_type=Output.STRING)`\n",
    "\n",
    "- image object　　图像对象\n",
    "- lang String，Tesseract　　语言代码字符串\n",
    "- config String　　任何其他配置为字符串，例如：config='--psm 6'\n",
    "- output_type　　类属性，指定输出的类型，默认为string。有关所有支持类型的完整列表，请检查pytesseract.Output类的定义。"
   ]
  },
  {
   "cell_type": "markdown",
   "metadata": {},
   "source": [
    "上层：(500,265,960,305)\n",
    "\n",
    "下层：(500,400,960,440)\n",
    "\n",
    "box: (40,15)\n",
    "\n",
    "bg_color: (2,117,124)\n",
    "\n",
    "border_color : (100,100,100)\n",
    "\n",
    "gray: (83,83,83)\n",
    "\n",
    "改进：\n",
    "\n",
    "1. 设置参数只识别数字\n",
    "2. 每次只识别一行，而不是多行"
   ]
  },
  {
   "cell_type": "code",
   "execution_count": 117,
   "metadata": {},
   "outputs": [],
   "source": [
    "bg_color = (2,117,124)\n",
    "border_color  = (100,100,100)\n",
    "def process_img(pixels, image):\n",
    "    for i in range(image.size[0]):\n",
    "        for j in range(image.size[1]):\n",
    "            if pixels[i,j] == (255,0,0):\n",
    "                pixels[i,j] = (0,0,0)\n",
    "                # pass\n",
    "            elif pixels[i,j] == bg_color or pixels[i,j] == border_color:\n",
    "                pixels[i,j] = (255,255,255)"
   ]
  },
  {
   "cell_type": "code",
   "execution_count": 131,
   "metadata": {},
   "outputs": [],
   "source": [
    "def identify_image(image,show_image=False,config='')->str:\n",
    "    pixels = image.load()\n",
    "    process_img(pixels,image)\n",
    "    if show_image:\n",
    "        image.show()\n",
    "    return pytesseract.image_to_string(image, lang='eng',config=config)"
   ]
  },
  {
   "cell_type": "code",
   "execution_count": 96,
   "metadata": {
    "tags": []
   },
   "outputs": [
    {
     "output_type": "stream",
     "name": "stdout",
     "text": "2702500225020205856550\n\f\n"
    }
   ],
   "source": [
    "\n",
    "up = (500,265,960,305)\n",
    "down = (500,400,960,440)\n",
    "down_1 = (500,420,960,440)\n",
    "fist_box = (500,265,540,280)\n",
    "config = '--oem 3 --psm 6 -c tessedit_char_whitelist=0123456789'\n",
    "try:\n",
    "    print(identify_image(up,True))\n",
    "    print(identify_image(down_1,True,config))\n",
    "except RuntimeError as timeout_error:\n",
    "    pass"
   ]
  },
  {
   "cell_type": "code",
   "execution_count": null,
   "metadata": {},
   "outputs": [],
   "source": [
    "def window_capture():\n",
    "    "
   ]
  },
  {
   "cell_type": "code",
   "execution_count": null,
   "outputs": [],
   "source": [
    "%%time\n",
    "box_size = (38,15)\n",
    "v_box_size = (38,36)\n",
    "offset_x = 60\n",
    "\n",
    "full_scree = (0,0,1366,768)\n",
    "\n",
    "up_start_pos1 = (499,266)\n",
    "up_start_pos2 = (499,287)\n",
    "\n",
    "down_start_pos1 = (499,401)\n",
    "down_start_pos2 = (499,422)\n",
    "\n",
    "start_pos = [up_start_pos1,up_start_pos2,down_start_pos1,down_start_pos2]\n",
    "\n",
    "def get_parameters(start_pos,box_size):\n",
    "    count: int = 8\n",
    "    screen = ImageGrab.grab(full_scree)\n",
    "    for pos in start_pos:\n",
    "        for i in range(count):\n",
    "            new_start = (pos[0]+i*offset_x,pos[1])\n",
    "            boxx = (new_start[0],new_start[1],new_start[0]+box_size[0],new_start[1]+box_size[1])\n",
    "            part_img = screen.crop(boxx)\n",
    "\n",
    "            # print(identify_image(part_img))\n",
    "get_parameters([up_start_pos1,down_start_pos1],(38,36))\n",
    "# threading.Thread(target=get_parameters,args=([up_start_pos1],v_box_size)).start()\n",
    "\n",
    "# threading.Thread(target=get_parameters,args=([down_start_pos1],v_box_size)).start()\n"
   ],
   "metadata": {
    "collapsed": false,
    "pycharm": {
     "name": "#%%\n"
    }
   }
  },
  {
   "cell_type": "code",
   "execution_count": 134,
   "metadata": {
    "tags": []
   },
   "outputs": [
    {
     "output_type": "stream",
     "name": "stdout",
     "text": "Wall time: 72.8 ms\n"
    }
   ],
   "source": [
    "%%time\n",
    "box_size = (38,15)\n",
    "v_box_size = (38,36)\n",
    "offset_x = 60\n",
    "\n",
    "full_scree = (0,0,1366,768)\n",
    "\n",
    "up_start_pos1 = (499,266)\n",
    "up_start_pos2 = (499,287)\n",
    "\n",
    "down_start_pos1 = (499,401)\n",
    "down_start_pos2 = (499,422)\n",
    "\n",
    "start_pos = [up_start_pos1,up_start_pos2,down_start_pos1,down_start_pos2]\n",
    "\n",
    "def get_parameters(start_pos,box_size):\n",
    "    count: int = 8\n",
    "    screen = ImageGrab.grab(full_scree)\n",
    "    for pos in start_pos:\n",
    "        for i in range(count):\n",
    "            new_start = (pos[0]+i*offset_x,pos[1])\n",
    "            boxx = (new_start[0],new_start[1],new_start[0]+box_size[0],new_start[1]+box_size[1])\n",
    "            part_img = screen.crop(boxx)\n",
    "\n",
    "            # print(identify_image(part_img))\n",
    "get_parameters([up_start_pos1,down_start_pos1],(38,36))\n",
    "# threading.Thread(target=get_parameters,args=([up_start_pos1],v_box_size)).start()\n",
    "\n",
    "# threading.Thread(target=get_parameters,args=([down_start_pos1],v_box_size)).start()\n"
   ]
  }
 ],
 "metadata": {
  "kernelspec": {
   "name": "pycharm-7243037c",
   "language": "python",
   "display_name": "PyCharm (logread)"
  },
  "language_info": {
   "codemirror_mode": {
    "name": "ipython",
    "version": 2
   },
   "file_extension": ".py",
   "mimetype": "text/x-python",
   "name": "python",
   "nbconvert_exporter": "python",
   "pygments_lexer": "ipython2",
   "version": "2.7.6"
  }
 },
 "nbformat": 4,
 "nbformat_minor": 0
}