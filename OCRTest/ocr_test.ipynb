{
 "cells": [
  {
   "cell_type": "code",
   "execution_count": 1,
   "metadata": {
    "collapsed": true
   },
   "outputs": [],
   "source": [
    "import pytesseract\n",
    "from PIL import Image,ImageGrab\n",
    "import cv2 as cv\n",
    "import threading\n",
    "import numpy as np"
   ]
  },
  {
   "cell_type": "markdown",
   "metadata": {
    "collapsed": false,
    "pycharm": {
     "name": "#%%\n"
    }
   },
   "source": [
    "功能：\n",
    "\n",
    "- get_tesseract_version　　返回系统中安装的Tesseract版本。\n",
    "- image_to_string　　将图像上的Tesseract OCR运行结果返回到字符串\n",
    "- image_to_boxes　　返回包含已识别字符及其框边界的结果\n",
    "- image_to_data　　返回包含框边界，置信度和其他信息的结果。需要- Tesseract 3.05+。有关更多信息，请查看Tesseract TSV文档\n",
    "- image_to_osd　　返回包含有关方向和脚本检测的信息的结果。\n",
    "\n",
    "参数：\n",
    "\n",
    "`image_to_data(image, lang=None, config='', nice=0, output_type=Output.STRING)`\n",
    "\n",
    "- image object　　图像对象\n",
    "- lang String，Tesseract　　语言代码字符串\n",
    "- config String　　任何其他配置为字符串，例如：config='--psm 6'\n",
    "- output_type　　类属性，指定输出的类型，默认为string。有关所有支持类型的完整列表，请检查pytesseract.Output类的定义。"
   ]
  },
  {
   "cell_type": "markdown",
   "metadata": {},
   "source": [
    "上层：(500,265,960,305)\n",
    "\n",
    "下层：(500,400,960,440)\n",
    "\n",
    "box: (40,15)\n",
    "\n",
    "bg_color: (2,117,124)\n",
    "\n",
    "border_color : (100,100,100)\n",
    "\n",
    "gray: (83,83,83)\n",
    "\n",
    "改进：\n",
    "\n",
    "1. 设置参数只识别数字\n",
    "2. 每次只识别一行，而不是多行"
   ]
  },
  {
   "cell_type": "code",
   "execution_count": 3,
   "metadata": {},
   "outputs": [],
   "source": [
    "bg_color = (16,24,26)\n",
    "border_color  = (100,100,100)\n",
    "def process_img(image):\n",
    "    pixels = image.load()\n",
    "    for i in range(image.size[0]):\n",
    "        for j in range(image.size[1]):\n",
    "            if pixels[i,j] == bg_color:\n",
    "                pixels[i,j] = (255,255,255)\n",
    "                # pass\n",
    "            "
   ]
  },
  {
   "cell_type": "code",
   "execution_count": 4,
   "metadata": {},
   "outputs": [],
   "source": [
    "def identify_image(image,lang='eng',show_image=False,config='')->str:\n",
    "    # process_img(image)\n",
    "    if show_image:\n",
    "        image.show()\n",
    "    return pytesseract.image_to_string(image, lang='eng',config=config)"
   ]
  },
  {
   "cell_type": "code",
   "execution_count": 9,
   "metadata": {
    "tags": []
   },
   "outputs": [],
   "source": [
    "full_screen = (0,0,1366,768)\n",
    "config = '--psm 6 -c tessedit_char_whitelist=0123456789.'\n",
    "def get_parameters(boxes:list):\n",
    "    screen = ImageGrab.grab(full_screen)\n",
    "    for box in boxes:\n",
    "        part_img = screen.crop((box[0],box[1],box[0]+box[2],box[1]+box[3]))\n",
    "        print(identify_image(image=part_img,show_image=False,config=config))"
   ]
  },
  {
   "cell_type": "code",
   "execution_count": 58,
   "metadata": {
    "tags": []
   },
   "outputs": [
    {
     "output_type": "stream",
     "name": "stdout",
     "text": "50\n\f\n\f\n\f\n750\n\f\n50\n\f\n"
    }
   ],
   "source": [
    "boxes = [\n",
    "    (125,395,50,25),\n",
    "    (125,395+25,50,25),\n",
    "    (125,395+50,50,25),\n",
    "    (125,395+75,50,25),\n",
    "    (125,395+100,50,25),\n",
    "]\n",
    "get_parameters(boxes)\n"
   ]
  },
  {
   "cell_type": "code",
   "execution_count": 13,
   "metadata": {
    "tags": []
   },
   "outputs": [
    {
     "output_type": "stream",
     "name": "stdout",
     "text": "\n"
    }
   ],
   "source": [
    "image = Image.open('./resource/2.png')\n",
    "image = image.convert('L')\n",
    "image.show()\n",
    "print(pytesseract.image_to_string(image,config=config))\n"
   ]
  },
  {
   "cell_type": "code",
   "execution_count": 14,
   "metadata": {},
   "outputs": [
    {
     "output_type": "error",
     "ename": "NameError",
     "evalue": "name 'dst' is not defined",
     "traceback": [
      "\u001b[1;31m---------------------------------------------------------------------------\u001b[0m",
      "\u001b[1;31mNameError\u001b[0m                                 Traceback (most recent call last)",
      "\u001b[1;32m<ipython-input-14-d4f3d7856793>\u001b[0m in \u001b[0;36m<module>\u001b[1;34m\u001b[0m\n\u001b[0;32m      7\u001b[0m \u001b[0mcv\u001b[0m\u001b[1;33m.\u001b[0m\u001b[0mnamedWindow\u001b[0m\u001b[1;33m(\u001b[0m\u001b[1;34m\"input image\"\u001b[0m\u001b[1;33m,\u001b[0m \u001b[0mcv\u001b[0m\u001b[1;33m.\u001b[0m\u001b[0mWINDOW_AUTOSIZE\u001b[0m\u001b[1;33m)\u001b[0m\u001b[1;33m\u001b[0m\u001b[1;33m\u001b[0m\u001b[0m\n\u001b[0;32m      8\u001b[0m \u001b[0mcv\u001b[0m\u001b[1;33m.\u001b[0m\u001b[0mimshow\u001b[0m\u001b[1;33m(\u001b[0m\u001b[1;34m\"input image\"\u001b[0m\u001b[1;33m,\u001b[0m \u001b[0msrc\u001b[0m\u001b[1;33m)\u001b[0m\u001b[1;33m\u001b[0m\u001b[1;33m\u001b[0m\u001b[0m\n\u001b[1;32m----> 9\u001b[1;33m \u001b[0mcv\u001b[0m\u001b[1;33m.\u001b[0m\u001b[0mimwrite\u001b[0m\u001b[1;33m(\u001b[0m\u001b[0mdst\u001b[0m\u001b[1;33m,\u001b[0m\u001b[1;34m'./resource/dist.png'\u001b[0m\u001b[1;33m)\u001b[0m\u001b[1;33m\u001b[0m\u001b[1;33m\u001b[0m\u001b[0m\n\u001b[0m\u001b[0;32m     10\u001b[0m \u001b[0mcustom_sharpen_demo\u001b[0m\u001b[1;33m(\u001b[0m\u001b[0msrc\u001b[0m\u001b[1;33m)\u001b[0m\u001b[1;33m\u001b[0m\u001b[1;33m\u001b[0m\u001b[0m\n\u001b[0;32m     11\u001b[0m \u001b[0mcv\u001b[0m\u001b[1;33m.\u001b[0m\u001b[0mwaitKey\u001b[0m\u001b[1;33m(\u001b[0m\u001b[1;36m0\u001b[0m\u001b[1;33m)\u001b[0m\u001b[1;33m\u001b[0m\u001b[1;33m\u001b[0m\u001b[0m\n",
      "\u001b[1;31mNameError\u001b[0m: name 'dst' is not defined"
     ]
    }
   ],
   "source": [
    "dst = None\n",
    "def custom_sharpen_demo(image):\n",
    "  kernel = np.array([[0, -1, 0], [-1, 5, -1], [0, -1, 0]], np.float32) #锐化\n",
    "  dst = cv.filter2D(image, -1, kernel=kernel)\n",
    "  cv.imshow(\"custom_blur_demo\", dst)\n",
    "  \n",
    "src = cv.imread(\"./resource/1.png\")\n",
    "cv.namedWindow(\"input image\", cv.WINDOW_AUTOSIZE)\n",
    "cv.imshow(\"input image\", src)\n",
    "cv.imwrite(dst,'./resource/dist.png')\n",
    "custom_sharpen_demo(src)\n",
    "cv.waitKey(0)\n",
    "cv.destroyAllWindows()"
   ]
  },
  {
   "cell_type": "code",
   "execution_count": 135,
   "metadata": {
    "tags": []
   },
   "outputs": [
    {
     "output_type": "stream",
     "name": "stdout",
     "text": "25\n270\n\f\n25\n250\n\f\n25\n225\n\f\n25\n210\n\f\n25\n205\n\f\n25\n185\n\f\n24\n165\n\f\n24\n\f\n25\n270\n\f\n25\n250\n\f\n24\n225\n\f\n24\n210\n\f\n25\n205\n\n24\n185\n\f\n24\n165\n\f\n24\n150\n\nWall time: 3.51 s\n"
    }
   ],
   "source": [
    "%%time\n",
    "box_size = (38,15)\n",
    "v_box_size = (38,36)\n",
    "offset_x = 60\n",
    "\n",
    "full_scree = (0,0,1366,768)\n",
    "\n",
    "up_start_pos1 = (499,266)\n",
    "up_start_pos2 = (499,287)\n",
    "\n",
    "down_start_pos1 = (499,401)\n",
    "down_start_pos2 = (499,422)\n",
    "\n",
    "start_pos = [up_start_pos1,up_start_pos2,down_start_pos1,down_start_pos2]\n",
    "\n",
    "def get_parameters(start_pos,box_size):\n",
    "    count: int = 8\n",
    "    screen = ImageGrab.grab(full_scree)\n",
    "    for pos in start_pos:\n",
    "        for i in range(count):\n",
    "            new_start = (pos[0]+i*offset_x,pos[1])\n",
    "            boxx = (new_start[0],new_start[1],new_start[0]+box_size[0],new_start[1]+box_size[1])\n",
    "            part_img = screen.crop(boxx)\n",
    "\n",
    "            print(identify_image(part_img))\n",
    "get_parameters([up_start_pos1,down_start_pos1],(38,36))\n",
    "# threading.Thread(target=get_parameters,args=([up_start_pos1],v_box_size)).start()\n",
    "\n",
    "# threading.Thread(target=get_parameters,args=([down_start_pos1],v_box_size)).start()\n"
   ]
  }
 ],
 "metadata": {
  "kernelspec": {
   "name": "python_defaultSpec_1597226862588",
   "language": "python",
   "display_name": "Python 3.8.3 64-bit ('base': conda)"
  },
  "language_info": {
   "codemirror_mode": {
    "name": "ipython",
    "version": 2
   },
   "file_extension": ".py",
   "mimetype": "text/x-python",
   "name": "python",
   "nbconvert_exporter": "python",
   "pygments_lexer": "ipython2",
   "version": "3.8.3-final"
  }
 },
 "nbformat": 4,
 "nbformat_minor": 0
}